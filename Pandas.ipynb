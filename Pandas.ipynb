{
 "cells": [
  {
   "attachments": {},
   "cell_type": "markdown",
   "metadata": {},
   "source": [
    "# LETS START PANDAS PRACTICE"
   ]
  },
  {
   "cell_type": "code",
   "execution_count": 7,
   "metadata": {},
   "outputs": [
    {
     "name": "stdout",
     "output_type": "stream",
     "text": [
      "a     4\n",
      "b     5\n",
      "c     7\n",
      "d     9\n",
      "e    11\n",
      "f    16\n",
      "Name: Ashu Data, dtype: int64\n",
      "<class 'pandas.core.series.Series'>\n",
      "7\n"
     ]
    }
   ],
   "source": [
    "import pandas as pd\n",
    "x = [4,5,7,9,11,16]\n",
    "x = pd.Series(x,index=['a','b','c','d','e','f'],name=\"Ashu Data\")\n",
    "print(x)\n",
    "print(type(x))\n",
    "print(x[2])"
   ]
  },
  {
   "cell_type": "code",
   "execution_count": 8,
   "metadata": {},
   "outputs": [
    {
     "name": "stdout",
     "output_type": "stream",
     "text": [
      "Names of Programming Languages    [Python, C, C++, Javascript, Java]\n",
      "Rankings                                             [1, 5, 4, 2, 3]\n",
      "dtype: object\n"
     ]
    }
   ],
   "source": [
    "dic = {\"Names of Programming Languages\":['Python','C','C++','Javascript','Java'],\"Rankings\":['1','5','4','2','3']}\n",
    "v = pd.Series(dic)\n",
    "print(v)"
   ]
  },
  {
   "cell_type": "code",
   "execution_count": 3,
   "metadata": {},
   "outputs": [
    {
     "name": "stdout",
     "output_type": "stream",
     "text": [
      "<class 'pandas.core.frame.DataFrame'>\n"
     ]
    }
   ],
   "source": [
    "import pandas as pd\n",
    "z = [1,2,3,4,5,6]\n",
    "var1 = pd.DataFrame(z)\n",
    "print(type(var1))\n"
   ]
  },
  {
   "cell_type": "code",
   "execution_count": 12,
   "metadata": {},
   "outputs": [
    {
     "name": "stdout",
     "output_type": "stream",
     "text": [
      "      name marks       city\n",
      "1     Ashu    96    Karachi\n",
      "2     Umer    74     Lahore\n",
      "3  Moazzam    88    Karachi\n",
      "4   Bharru    55  Islamabad\n",
      "5  Shaheer    81  Hyderabad\n",
      "Shaheer\n"
     ]
    }
   ],
   "source": [
    "dict0 = {\"name\":['Ashu','Umer','Moazzam','Bharru','Shaheer'],\"marks\":['96','74','88','55','81'],\"city\":['Karachi','Lahore','Karachi','Islamabad','Hyderabad']}\n",
    "df = pd.DataFrame(dict0,index=['1','2','3','4','5'])\n",
    "print(df)\n",
    "print(df[\"name\"][4]) # this is the way to get the data.\n"
   ]
  },
  {
   "cell_type": "code",
   "execution_count": 6,
   "metadata": {},
   "outputs": [
    {
     "name": "stdout",
     "output_type": "stream",
     "text": [
      "    A   B\n",
      "0   2   4\n",
      "1   3   7\n",
      "2   9  16\n",
      "3  11   1\n"
     ]
    }
   ],
   "source": [
    "import pandas as pd\n",
    "DF = pd.DataFrame({\"A\":[2,3,9,11],\"B\":[4,7,16,1]})\n",
    "print(DF)"
   ]
  },
  {
   "cell_type": "code",
   "execution_count": 7,
   "metadata": {},
   "outputs": [
    {
     "name": "stdout",
     "output_type": "stream",
     "text": [
      "    A   B   C\n",
      "0   2   4   6\n",
      "1   3   7  10\n",
      "2   9  16  25\n",
      "3  11   1  12\n"
     ]
    }
   ],
   "source": [
    "#Addition\n",
    "DF[\"C\"] = DF[\"A\"] + DF[\"B\"]\n",
    "print(DF)"
   ]
  },
  {
   "cell_type": "code",
   "execution_count": 8,
   "metadata": {},
   "outputs": [
    {
     "name": "stdout",
     "output_type": "stream",
     "text": [
      "    A   B    C\n",
      "0   2   4    8\n",
      "1   3   7   21\n",
      "2   9  16  144\n",
      "3  11   1   11\n"
     ]
    }
   ],
   "source": [
    "#Multiplication\n",
    "DF[\"C\"] = DF[\"A\"] * DF[\"B\"]\n",
    "print(DF)"
   ]
  },
  {
   "cell_type": "code",
   "execution_count": 9,
   "metadata": {},
   "outputs": [
    {
     "name": "stdout",
     "output_type": "stream",
     "text": [
      "    A   B    C  Result\n",
      "0   2   4    8   False\n",
      "1   3   7   21    True\n",
      "2   9  16  144    True\n",
      "3  11   1   11   False\n"
     ]
    }
   ],
   "source": [
    "#True or False\n",
    "DF[\"Result\"] = DF[\"C\"] >= 20\n",
    "print(DF)"
   ]
  },
  {
   "cell_type": "code",
   "execution_count": 10,
   "metadata": {},
   "outputs": [
    {
     "name": "stdout",
     "output_type": "stream",
     "text": [
      "    A  a1   B    C  Result\n",
      "0   2  12   4    8   False\n",
      "1   3  13   7   21    True\n",
      "2   9  14  16  144    True\n",
      "3  11  15   1   11   False\n"
     ]
    }
   ],
   "source": [
    "#Inserting a new column\n",
    "DF.insert(1,\"a1\",[12,13,14,15])\n",
    "print(DF)\n"
   ]
  },
  {
   "cell_type": "code",
   "execution_count": 11,
   "metadata": {},
   "outputs": [
    {
     "name": "stdout",
     "output_type": "stream",
     "text": [
      "    A  a1   B    C  Result     c2\n",
      "0   2  12   4    8   False    8.0\n",
      "1   3  13   7   21    True   21.0\n",
      "2   9  14  16  144    True  144.0\n",
      "3  11  15   1   11   False    NaN\n"
     ]
    }
   ],
   "source": [
    "#inserting a new column upto limited data values\n",
    "DF[\"c2\"] = DF[\"C\"][:3]\n",
    "print(DF)"
   ]
  },
  {
   "cell_type": "code",
   "execution_count": 12,
   "metadata": {},
   "outputs": [
    {
     "name": "stdout",
     "output_type": "stream",
     "text": [
      "    A  a1   B    C  Result\n",
      "0   2  12   4    8   False\n",
      "1   3  13   7   21    True\n",
      "2   9  14  16  144    True\n",
      "3  11  15   1   11   False\n"
     ]
    }
   ],
   "source": [
    "#Delete the data pop function / Del keyword\n",
    "del DF[\"c2\"]\n",
    "print(DF)"
   ]
  },
  {
   "cell_type": "code",
   "execution_count": 13,
   "metadata": {},
   "outputs": [
    {
     "name": "stdout",
     "output_type": "stream",
     "text": [
      "0    12\n",
      "1    13\n",
      "2    14\n",
      "3    15\n",
      "Name: a1, dtype: int64\n",
      "    A   B    C  Result\n",
      "0   2   4    8   False\n",
      "1   3   7   21    True\n",
      "2   9  16  144    True\n",
      "3  11   1   11   False\n"
     ]
    }
   ],
   "source": [
    "DF_pop = DF.pop(\"a1\")\n",
    "print(DF_pop)\n",
    "print(DF)"
   ]
  },
  {
   "cell_type": "code",
   "execution_count": null,
   "metadata": {},
   "outputs": [],
   "source": []
  }
 ],
 "metadata": {
  "kernelspec": {
   "display_name": "Python 3",
   "language": "python",
   "name": "python3"
  },
  "language_info": {
   "codemirror_mode": {
    "name": "ipython",
    "version": 3
   },
   "file_extension": ".py",
   "mimetype": "text/x-python",
   "name": "python",
   "nbconvert_exporter": "python",
   "pygments_lexer": "ipython3",
   "version": "3.11.0"
  },
  "orig_nbformat": 4,
  "vscode": {
   "interpreter": {
    "hash": "07ec0e2692a757d177a3dcdf9f48c8e08a2ac51688a0f5f42c4ae1cd4e9b6d8f"
   }
  }
 },
 "nbformat": 4,
 "nbformat_minor": 2
}
